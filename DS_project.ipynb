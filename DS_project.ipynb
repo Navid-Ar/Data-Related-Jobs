{
 "cells": [
  {
   "cell_type": "code",
   "execution_count": 94,
   "metadata": {},
   "outputs": [],
   "source": [
    "import os\n",
    "os.chdir(r'C:\\Users\\Navid\\Documents\\ds_salary_proj')"
   ]
  },
  {
   "cell_type": "code",
   "execution_count": 273,
   "metadata": {},
   "outputs": [
    {
     "name": "stdout",
     "output_type": "stream",
     "text": [
      "^C\n"
     ]
    },
    {
     "ename": "ModuleNotFoundError",
     "evalue": "No module named 'seaborn'",
     "output_type": "error",
     "traceback": [
      "\u001b[1;31m---------------------------------------------------------------------------\u001b[0m",
      "\u001b[1;31mModuleNotFoundError\u001b[0m                       Traceback (most recent call last)",
      "\u001b[1;32m<ipython-input-273-b19953099fb5>\u001b[0m in \u001b[0;36m<module>\u001b[1;34m\u001b[0m\n\u001b[0;32m      1\u001b[0m \u001b[0mget_ipython\u001b[0m\u001b[1;33m(\u001b[0m\u001b[1;33m)\u001b[0m\u001b[1;33m.\u001b[0m\u001b[0msystem\u001b[0m\u001b[1;33m(\u001b[0m\u001b[1;34m'conda install seaborn'\u001b[0m\u001b[1;33m)\u001b[0m\u001b[1;33m\u001b[0m\u001b[1;33m\u001b[0m\u001b[0m\n\u001b[0;32m      2\u001b[0m \u001b[1;32mimport\u001b[0m \u001b[0mpandas\u001b[0m \u001b[1;32mas\u001b[0m \u001b[0mpd\u001b[0m\u001b[1;33m\u001b[0m\u001b[1;33m\u001b[0m\u001b[0m\n\u001b[1;32m----> 3\u001b[1;33m \u001b[1;32mimport\u001b[0m \u001b[0mseaborn\u001b[0m \u001b[1;32mas\u001b[0m \u001b[0msns\u001b[0m\u001b[1;33m\u001b[0m\u001b[1;33m\u001b[0m\u001b[0m\n\u001b[0m",
      "\u001b[1;31mModuleNotFoundError\u001b[0m: No module named 'seaborn'"
     ]
    }
   ],
   "source": [
    "!conda install seaborn\n",
    "import pandas as pd\n",
    "import seaborn as sns"
   ]
  },
  {
   "cell_type": "code",
   "execution_count": 222,
   "metadata": {},
   "outputs": [],
   "source": [
    "df1 = pd.read_csv('data_frame2.txt')\n",
    "df2 = pd.read_csv('data_frame3.txt')"
   ]
  },
  {
   "cell_type": "code",
   "execution_count": 223,
   "metadata": {},
   "outputs": [],
   "source": [
    "df = df1.append(df2)"
   ]
  },
  {
   "cell_type": "code",
   "execution_count": 224,
   "metadata": {},
   "outputs": [],
   "source": [
    "df['salary_type'] = [x.split()[1] for x in df['Salary Estimate']]"
   ]
  },
  {
   "cell_type": "code",
   "execution_count": 225,
   "metadata": {},
   "outputs": [],
   "source": [
    "df['Salary Estimate'] = [x.split()[0] for x in df['Salary Estimate']]"
   ]
  },
  {
   "cell_type": "code",
   "execution_count": 226,
   "metadata": {},
   "outputs": [
    {
     "name": "stdout",
     "output_type": "stream",
     "text": [
      "['(Glassdoor' 'Per' '(Employer']\n"
     ]
    }
   ],
   "source": [
    "print(df['salary_type'].unique())"
   ]
  },
  {
   "cell_type": "code",
   "execution_count": 227,
   "metadata": {},
   "outputs": [],
   "source": [
    "df['per_hour'] = [1 if 'Per' in x else 0 for x in df['salary_type']]\n",
    "df['Employer_reported'] = [1 if 'Employer' in x else 0 for x in df['salary_type']]"
   ]
  },
  {
   "cell_type": "code",
   "execution_count": 228,
   "metadata": {},
   "outputs": [],
   "source": [
    "#extracting avg salary from slaray estimation\n",
    "df['avg_salary'] = (df['Salary Estimate'].map(lambda x: x.split('-')[0].lstrip('$').rstrip('k')).astype('int32')\n",
    "                    +df['Salary Estimate'].map(lambda x: x.split('-')[1].lstrip('$').rstrip('k')).astype('int32'))/2"
   ]
  },
  {
   "cell_type": "code",
   "execution_count": 229,
   "metadata": {},
   "outputs": [],
   "source": [
    "#now lets find the avg salary of those reported per hour\n",
    "#we multiply them by 2000 (approximately the number of hourse per year) and devide by 1000 (therefore, we just multiply it by 2)\n",
    "df['avg_salary'] = df.apply(lambda x: x.avg_salary if x.per_hour == 1 else x.avg_salary*2,axis=1)"
   ]
  },
  {
   "cell_type": "code",
   "execution_count": 230,
   "metadata": {},
   "outputs": [
    {
     "data": {
      "text/plain": [
       "5                    NanoMosaic\n",
       "105                  Kronos Bio\n",
       "144                 LGC Limited\n",
       "165          Remix Therapeutics\n",
       "168     Monte Rosa Therapeutics\n",
       "                 ...           \n",
       "227                 LGC Limited\n",
       "230                       PRPDG\n",
       "255    Well Established Biotech\n",
       "296     Monte Rosa Therapeutics\n",
       "297     Monte Rosa Therapeutics\n",
       "Name: Company Name, Length: 61, dtype: object"
      ]
     },
     "execution_count": 230,
     "metadata": {},
     "output_type": "execute_result"
    }
   ],
   "source": [
    "df.loc[df['Rating'] == -1, 'Company Name']\n",
    "# it seems that the companies without rating, only have their name in the Company Name column"
   ]
  },
  {
   "cell_type": "code",
   "execution_count": 231,
   "metadata": {},
   "outputs": [],
   "source": [
    "df['Company Name'] = df.apply(lambda x: x['Company Name'] if x['Rating'] == -1 else x['Company Name'].split(\"\\n\")[0] , axis = 1)"
   ]
  },
  {
   "cell_type": "code",
   "execution_count": 232,
   "metadata": {},
   "outputs": [],
   "source": [
    "#df.drop(['Headquarters','Competitors','Salary Estimate'], axis = 1 , inplace = True)"
   ]
  },
  {
   "cell_type": "code",
   "execution_count": 233,
   "metadata": {},
   "outputs": [
    {
     "data": {
      "text/plain": [
       "{'Colorado',\n",
       " 'Georgia',\n",
       " 'Missouri',\n",
       " 'New Jersey',\n",
       " 'Puerto Rico',\n",
       " 'Remote',\n",
       " 'Utah',\n",
       " 'Virginia'}"
      ]
     },
     "execution_count": 233,
     "metadata": {},
     "output_type": "execute_result"
    }
   ],
   "source": [
    "# Since in Location columns there are instacnes wuth differnt structre, such as 'Virgina', we need to replace them with \n",
    "# the same structure as others so that we can extract usefull info from them\n",
    "\n",
    "# We remove the ones without specified location (United States)\n",
    "df = df[df['Location'] != 'United States']\n",
    "list_1 = []\n",
    "for item in df.Location:\n",
    "    if ',' not in item:\n",
    "        list_1.append(item)\n",
    "\n",
    "set(list_1)"
   ]
  },
  {
   "cell_type": "code",
   "execution_count": 234,
   "metadata": {},
   "outputs": [],
   "source": [
    "df['state'] = df.apply(lambda x: x['Location'] if ',' not in x['Location']\n",
    "                       else x['Location'].split(',')[1].lstrip() , axis = 1)\n",
    "# we create a dict to use for mapping\n",
    "state_convertor = {'Colorado' : 'CO' , 'Georgia' : 'GA' , 'Missouri' : 'MO' , 'New Jersey' : 'NJ' ,\n",
    "             'Remote' : 'Remote' , 'Utah' : 'UT' , 'Virginia' : 'VA'}\n",
    "df['state'] = df['state'].map(lambda x: state_convertor[x] if x in state_convertor else x)"
   ]
  },
  {
   "cell_type": "code",
   "execution_count": 235,
   "metadata": {},
   "outputs": [
    {
     "name": "stdout",
     "output_type": "stream",
     "text": [
      "10000+ Employees           299\n",
      "51 to 200 Employees        217\n",
      "1001 to 5000 Employees     206\n",
      "201 to 500 Employees       167\n",
      "501 to 1000 Employees      157\n",
      "1 to 50 Employees          100\n",
      "5001 to 10000 Employees     78\n",
      "-1                          33\n",
      "Unknown                     19\n",
      "Name: Size, dtype: int64\n",
      "7    299\n",
      "2    217\n",
      "5    206\n",
      "3    167\n",
      "4    157\n",
      "1    100\n",
      "6     78\n",
      "Name: Size, dtype: int64\n"
     ]
    }
   ],
   "source": [
    "# we are going to work on the size\n",
    "print(df.Size.value_counts())\n",
    "# Lets drop those company with unknown or -1 size\n",
    "df = df[(df['Size'] != '-1') & (df['Size'] != 'Unknown')]\n",
    "# Lets make a dictionary to convert differnt types of size to numbers, since they are compareable\n",
    "size_convertor = {'1 to 50 Employees':1 , '51 to 200 Employees':2 , '201 to 500 Employees':3 , \n",
    "                 '501 to 1000 Employees':4 , '1001 to 5000 Employees':5 , '5001 to 10000 Employees':6 ,\n",
    "                 '10000+ Employees':7}\n",
    "df['Size'] = df['Size'].map(size_convertor)\n",
    "print(df.Size.value_counts())"
   ]
  },
  {
   "cell_type": "code",
   "execution_count": 236,
   "metadata": {},
   "outputs": [],
   "source": [
    "# Now we want to change the founded year to age of the company\n",
    "df['Founded'] = df['Founded'].apply(lambda x: -1 if x == -1 else 2020 - x)"
   ]
  },
  {
   "cell_type": "code",
   "execution_count": 237,
   "metadata": {},
   "outputs": [],
   "source": [
    "#the length of the job description can be a usefull feature\n",
    "df['desc_length'] = df['Job Description'].apply(lambda x: len(x))"
   ]
  },
  {
   "cell_type": "code",
   "execution_count": 238,
   "metadata": {},
   "outputs": [
    {
     "data": {
      "text/plain": [
       "Biotech & Pharmaceuticals                  276\n",
       "Health Care Services & Hospitals           138\n",
       "Computer Hardware & Software                80\n",
       "Enterprise Software & Network Solutions     70\n",
       "Internet                                    66\n",
       "                                          ... \n",
       "Catering & Food Service Contractors          1\n",
       "Grantmaking Foundations                      1\n",
       "Industrial Manufacturing                     1\n",
       "Beauty & Personal Accessories Stores         1\n",
       "Farm Support Services                        1\n",
       "Name: Industry, Length: 74, dtype: int64"
      ]
     },
     "execution_count": 238,
     "metadata": {},
     "output_type": "execute_result"
    }
   ],
   "source": [
    "df.Industry.value_counts()"
   ]
  },
  {
   "cell_type": "code",
   "execution_count": 239,
   "metadata": {},
   "outputs": [
    {
     "data": {
      "text/plain": [
       "Information Technology                278\n",
       "Biotech & Pharmaceuticals             276\n",
       "Business Services                     149\n",
       "Health Care                           138\n",
       "Manufacturing                          60\n",
       "Finance                                47\n",
       "Aerospace & Defense                    46\n",
       "Insurance                              43\n",
       "-1                                     40\n",
       "Retail                                 26\n",
       "Media                                  25\n",
       "Government                             24\n",
       "Education                              19\n",
       "Oil, Gas, Energy & Utilities           17\n",
       "Telecommunications                      9\n",
       "Transportation & Logistics              6\n",
       "Accounting & Legal                      5\n",
       "Consumer Services                       5\n",
       "Restaurants, Bars & Food Services       4\n",
       "Agriculture & Forestry                  3\n",
       "Non-Profit                              2\n",
       "Real Estate                             1\n",
       "Construction, Repair & Maintenance      1\n",
       "Name: Sector, dtype: int64"
      ]
     },
     "execution_count": 239,
     "metadata": {},
     "output_type": "execute_result"
    }
   ],
   "source": [
    "df.Sector.value_counts()"
   ]
  },
  {
   "cell_type": "code",
   "execution_count": 240,
   "metadata": {},
   "outputs": [
    {
     "data": {
      "text/plain": [
       "Data Scientist                                                                                         275\n",
       "Data Engineer                                                                                           53\n",
       "Senior Data Scientist                                                                                   32\n",
       "Senior Data Engineer                                                                                    24\n",
       "Principal Data Scientist                                                                                12\n",
       "Sr. Data Scientist                                                                                       8\n",
       "Lead Data Scientist                                                                                      7\n",
       "Scientist                                                                                                5\n",
       "Senior Scientist                                                                                         5\n",
       "Data Analyst/Data Scientist                                                                              5\n",
       "Sr Data Scientist                                                                                        5\n",
       "Staff Data Scientist                                                                                     5\n",
       "Data Engineer II                                                                                         4\n",
       "Cloud Data Engineer                                                                                      4\n",
       "Data Scientist, Analytics                                                                                4\n",
       "Principal Data Scientist I                                                                               4\n",
       "Bioinformatics Research Scientist-Gene Regulation                                                        4\n",
       "Senior Data Scientist - Telecommute                                                                      4\n",
       "Research Scientist/Senior Research Scientist Data Collection Peri- and Post Approval Studies (PPAS)      4\n",
       "Data Scientist - Nationwide Opportunities                                                                4\n",
       "Name: Job Title, dtype: int64"
      ]
     },
     "execution_count": 240,
     "metadata": {},
     "output_type": "execute_result"
    }
   ],
   "source": [
    "df['Job Title'].value_counts()[:20]"
   ]
  },
  {
   "cell_type": "code",
   "execution_count": 241,
   "metadata": {},
   "outputs": [],
   "source": [
    "# job title convertor\n",
    "def title_extractor(title):\n",
    "    if 'data scientist' in title.lower():\n",
    "        return 'data scientist'\n",
    "    elif 'data engineer' in title.lower():\n",
    "        return 'data engineer'\n",
    "    elif 'research scientist' in title.lower():\n",
    "        return 'research scientist'\n",
    "    elif 'lab scientist' in title.lower() or 'labratory scientist':\n",
    "        return 'lab scientist'\n",
    "    else:\n",
    "        return 'na'\n",
    "    \n",
    "    "
   ]
  },
  {
   "cell_type": "code",
   "execution_count": 242,
   "metadata": {},
   "outputs": [],
   "source": [
    "# seniority extractor\n",
    "def seniority(title):\n",
    "    if 'senior' in title.lower() or 'sr' in title.lower() or 'lead' in title.lower() or 'principal' in title.lower() or 'sr.' in title.lower():\n",
    "        return 'senior'\n",
    "    elif 'jr' in title.lower() or 'jr.' in title.lower() or 'junior' in title.lower():\n",
    "        return 'junior'\n",
    "    else:\n",
    "        return 'na'\n",
    "    "
   ]
  },
  {
   "cell_type": "code",
   "execution_count": 243,
   "metadata": {},
   "outputs": [],
   "source": [
    "df['seniority'] = df['Job Title'].apply(seniority)\n",
    "df['title'] = df['Job Title'].apply(title_extractor)"
   ]
  },
  {
   "cell_type": "code",
   "execution_count": 244,
   "metadata": {},
   "outputs": [
    {
     "data": {
      "text/plain": [
       "na        869\n",
       "senior    346\n",
       "junior      9\n",
       "Name: seniority, dtype: int64"
      ]
     },
     "execution_count": 244,
     "metadata": {},
     "output_type": "execute_result"
    }
   ],
   "source": [
    "df.seniority.value_counts()"
   ]
  },
  {
   "cell_type": "code",
   "execution_count": 245,
   "metadata": {},
   "outputs": [
    {
     "data": {
      "text/plain": [
       "data scientist        558\n",
       "lab scientist         451\n",
       "data engineer         161\n",
       "research scientist     54\n",
       "Name: title, dtype: int64"
      ]
     },
     "execution_count": 245,
     "metadata": {},
     "output_type": "execute_result"
    }
   ],
   "source": [
    "df.title.value_counts()"
   ]
  },
  {
   "cell_type": "code",
   "execution_count": 246,
   "metadata": {},
   "outputs": [
    {
     "data": {
      "text/html": [
       "<div>\n",
       "<style scoped>\n",
       "    .dataframe tbody tr th:only-of-type {\n",
       "        vertical-align: middle;\n",
       "    }\n",
       "\n",
       "    .dataframe tbody tr th {\n",
       "        vertical-align: top;\n",
       "    }\n",
       "\n",
       "    .dataframe thead th {\n",
       "        text-align: right;\n",
       "    }\n",
       "</style>\n",
       "<table border=\"1\" class=\"dataframe\">\n",
       "  <thead>\n",
       "    <tr style=\"text-align: right;\">\n",
       "      <th></th>\n",
       "      <th>Unnamed: 0</th>\n",
       "      <th>Job Title</th>\n",
       "      <th>Salary Estimate</th>\n",
       "      <th>Job Description</th>\n",
       "      <th>Rating</th>\n",
       "      <th>Company Name</th>\n",
       "      <th>Location</th>\n",
       "      <th>Headquarters</th>\n",
       "      <th>Size</th>\n",
       "      <th>Founded</th>\n",
       "      <th>...</th>\n",
       "      <th>Revenue</th>\n",
       "      <th>Competitors</th>\n",
       "      <th>salary_type</th>\n",
       "      <th>per_hour</th>\n",
       "      <th>Employer_reported</th>\n",
       "      <th>avg_salary</th>\n",
       "      <th>state</th>\n",
       "      <th>desc_length</th>\n",
       "      <th>seniority</th>\n",
       "      <th>title</th>\n",
       "    </tr>\n",
       "  </thead>\n",
       "  <tbody>\n",
       "    <tr>\n",
       "      <th>0</th>\n",
       "      <td>0</td>\n",
       "      <td>Data Scientist</td>\n",
       "      <td>$57k-$102k</td>\n",
       "      <td>A trusted partner at nearly three million comm...</td>\n",
       "      <td>3.6</td>\n",
       "      <td>Ecolab</td>\n",
       "      <td>Saint Paul, MN</td>\n",
       "      <td>-1</td>\n",
       "      <td>7</td>\n",
       "      <td>97</td>\n",
       "      <td>...</td>\n",
       "      <td>$10+ billion (USD)</td>\n",
       "      <td>-1</td>\n",
       "      <td>(Glassdoor</td>\n",
       "      <td>0</td>\n",
       "      <td>0</td>\n",
       "      <td>159.0</td>\n",
       "      <td>MN</td>\n",
       "      <td>6517</td>\n",
       "      <td>na</td>\n",
       "      <td>data scientist</td>\n",
       "    </tr>\n",
       "    <tr>\n",
       "      <th>1</th>\n",
       "      <td>1</td>\n",
       "      <td>Data Scientist</td>\n",
       "      <td>$57k-$102k</td>\n",
       "      <td>As Data Scientist in the Pricing Analytics tea...</td>\n",
       "      <td>4.1</td>\n",
       "      <td>HP Inc.</td>\n",
       "      <td>San Diego, CA</td>\n",
       "      <td>-1</td>\n",
       "      <td>7</td>\n",
       "      <td>81</td>\n",
       "      <td>...</td>\n",
       "      <td>Unknown / Non-Applicable</td>\n",
       "      <td>-1</td>\n",
       "      <td>(Glassdoor</td>\n",
       "      <td>0</td>\n",
       "      <td>0</td>\n",
       "      <td>159.0</td>\n",
       "      <td>CA</td>\n",
       "      <td>2655</td>\n",
       "      <td>na</td>\n",
       "      <td>data scientist</td>\n",
       "    </tr>\n",
       "    <tr>\n",
       "      <th>2</th>\n",
       "      <td>2</td>\n",
       "      <td>Data Scientist</td>\n",
       "      <td>$57k-$102k</td>\n",
       "      <td>Job Brief\\n\\nThe ideal candidate will have pre...</td>\n",
       "      <td>2.9</td>\n",
       "      <td>IFG Companies</td>\n",
       "      <td>Atlanta, GA</td>\n",
       "      <td>-1</td>\n",
       "      <td>3</td>\n",
       "      <td>35</td>\n",
       "      <td>...</td>\n",
       "      <td>Unknown / Non-Applicable</td>\n",
       "      <td>-1</td>\n",
       "      <td>(Glassdoor</td>\n",
       "      <td>0</td>\n",
       "      <td>0</td>\n",
       "      <td>159.0</td>\n",
       "      <td>GA</td>\n",
       "      <td>2692</td>\n",
       "      <td>na</td>\n",
       "      <td>data scientist</td>\n",
       "    </tr>\n",
       "    <tr>\n",
       "      <th>3</th>\n",
       "      <td>3</td>\n",
       "      <td>Data Scientist</td>\n",
       "      <td>$57k-$102k</td>\n",
       "      <td>Every Analyst a Scientist - One of our primary...</td>\n",
       "      <td>4.5</td>\n",
       "      <td>Systems &amp; Technology Research</td>\n",
       "      <td>Woburn, MA</td>\n",
       "      <td>-1</td>\n",
       "      <td>3</td>\n",
       "      <td>10</td>\n",
       "      <td>...</td>\n",
       "      <td>$100 to $500 million (USD)</td>\n",
       "      <td>-1</td>\n",
       "      <td>(Glassdoor</td>\n",
       "      <td>0</td>\n",
       "      <td>0</td>\n",
       "      <td>159.0</td>\n",
       "      <td>MA</td>\n",
       "      <td>2314</td>\n",
       "      <td>na</td>\n",
       "      <td>data scientist</td>\n",
       "    </tr>\n",
       "    <tr>\n",
       "      <th>4</th>\n",
       "      <td>4</td>\n",
       "      <td>Senior Data Scientist</td>\n",
       "      <td>$57k-$102k</td>\n",
       "      <td>About Us\\n\\nAt GutCheck, we pioneered agile ma...</td>\n",
       "      <td>3.9</td>\n",
       "      <td>GutCheck</td>\n",
       "      <td>Denver, CO</td>\n",
       "      <td>-1</td>\n",
       "      <td>2</td>\n",
       "      <td>11</td>\n",
       "      <td>...</td>\n",
       "      <td>$10 to $25 million (USD)</td>\n",
       "      <td>-1</td>\n",
       "      <td>(Glassdoor</td>\n",
       "      <td>0</td>\n",
       "      <td>0</td>\n",
       "      <td>159.0</td>\n",
       "      <td>CO</td>\n",
       "      <td>3310</td>\n",
       "      <td>senior</td>\n",
       "      <td>data scientist</td>\n",
       "    </tr>\n",
       "  </tbody>\n",
       "</table>\n",
       "<p>5 rows × 23 columns</p>\n",
       "</div>"
      ],
      "text/plain": [
       "   Unnamed: 0              Job Title Salary Estimate  \\\n",
       "0           0         Data Scientist      $57k-$102k   \n",
       "1           1         Data Scientist      $57k-$102k   \n",
       "2           2         Data Scientist      $57k-$102k   \n",
       "3           3         Data Scientist      $57k-$102k   \n",
       "4           4  Senior Data Scientist      $57k-$102k   \n",
       "\n",
       "                                     Job Description  Rating  \\\n",
       "0  A trusted partner at nearly three million comm...     3.6   \n",
       "1  As Data Scientist in the Pricing Analytics tea...     4.1   \n",
       "2  Job Brief\\n\\nThe ideal candidate will have pre...     2.9   \n",
       "3  Every Analyst a Scientist - One of our primary...     4.5   \n",
       "4  About Us\\n\\nAt GutCheck, we pioneered agile ma...     3.9   \n",
       "\n",
       "                    Company Name        Location  Headquarters  Size  Founded  \\\n",
       "0                         Ecolab  Saint Paul, MN            -1     7       97   \n",
       "1                        HP Inc.   San Diego, CA            -1     7       81   \n",
       "2                  IFG Companies     Atlanta, GA            -1     3       35   \n",
       "3  Systems & Technology Research      Woburn, MA            -1     3       10   \n",
       "4                       GutCheck      Denver, CO            -1     2       11   \n",
       "\n",
       "   ...                     Revenue Competitors salary_type per_hour  \\\n",
       "0  ...          $10+ billion (USD)          -1  (Glassdoor        0   \n",
       "1  ...    Unknown / Non-Applicable          -1  (Glassdoor        0   \n",
       "2  ...    Unknown / Non-Applicable          -1  (Glassdoor        0   \n",
       "3  ...  $100 to $500 million (USD)          -1  (Glassdoor        0   \n",
       "4  ...    $10 to $25 million (USD)          -1  (Glassdoor        0   \n",
       "\n",
       "   Employer_reported avg_salary  state  desc_length  seniority           title  \n",
       "0                  0      159.0     MN         6517         na  data scientist  \n",
       "1                  0      159.0     CA         2655         na  data scientist  \n",
       "2                  0      159.0     GA         2692         na  data scientist  \n",
       "3                  0      159.0     MA         2314         na  data scientist  \n",
       "4                  0      159.0     CO         3310     senior  data scientist  \n",
       "\n",
       "[5 rows x 23 columns]"
      ]
     },
     "execution_count": 246,
     "metadata": {},
     "output_type": "execute_result"
    }
   ],
   "source": [
    "df.head()"
   ]
  },
  {
   "cell_type": "code",
   "execution_count": 247,
   "metadata": {},
   "outputs": [],
   "source": [
    "df['python'] = df['Job Description'].apply(lambda x: 1 if 'python' in x.lower() else 0)"
   ]
  },
  {
   "cell_type": "code",
   "execution_count": 248,
   "metadata": {},
   "outputs": [],
   "source": [
    "df['r studio'] = df['Job Description'].apply(lambda x: 1 if 'r studio' in x.lower() or 'r-studio' in x.lower() else 0)\n",
    "df['ML'] = df['Job Description'].apply(lambda x: 1 if 'machine' in x.lower() or 'ml' in x.lower() else 0)\n",
    "df['spark'] = df['Job Description'].apply(lambda x: 1 if 'spark' in x.lower() else 0)\n",
    "df['deep_learning'] = df['Job Description'].apply(lambda x: 1 if 'tensorflow' in x.lower() or 'pytorch' in x.lower() else 0)\n"
   ]
  },
  {
   "cell_type": "code",
   "execution_count": 249,
   "metadata": {},
   "outputs": [
    {
     "data": {
      "text/plain": [
       "1    664\n",
       "0    560\n",
       "Name: ML, dtype: int64"
      ]
     },
     "execution_count": 249,
     "metadata": {},
     "output_type": "execute_result"
    }
   ],
   "source": [
    "df.ML.value_counts()"
   ]
  },
  {
   "cell_type": "code",
   "execution_count": 250,
   "metadata": {},
   "outputs": [],
   "source": [
    "#some work on revenue columns\n",
    "df.Revenue.value_counts()\n",
    "size_convertor = {'Less than $1 million (USD)':1 , '$1 to $5 million (USD)':2 , '$5 to $10 million (USD)':3 , \n",
    "                 '$10 to $25 million (USD)':4 , '$25 to $50 million (USD)':5 , '$50 to $100 million (USD)':6 ,\n",
    "                 '$100 to $500 million (USD)':7}"
   ]
  },
  {
   "cell_type": "code",
   "execution_count": 251,
   "metadata": {},
   "outputs": [
    {
     "data": {
      "text/plain": [
       "<AxesSubplot:>"
      ]
     },
     "execution_count": 251,
     "metadata": {},
     "output_type": "execute_result"
    },
    {
     "data": {
      "image/png": "[encoded data removed]",
      "text/plain": [
       "<Figure size 432x288 with 1 Axes>"
      ]
     },
     "metadata": {
      "needs_background": "light"
     },
     "output_type": "display_data"
    }
   ],
   "source": [
    "df.boxplot(column = 'Rating')"
   ]
  },
  {
   "cell_type": "code",
   "execution_count": 252,
   "metadata": {},
   "outputs": [
    {
     "data": {
      "text/plain": [
       "<AxesSubplot:>"
      ]
     },
     "execution_count": 252,
     "metadata": {},
     "output_type": "execute_result"
    },
    {
     "data": {
      "image/png": "[encoded data removed]",
      "text/plain": [
       "<Figure size 432x288 with 1 Axes>"
      ]
     },
     "metadata": {
      "needs_background": "light"
     },
     "output_type": "display_data"
    }
   ],
   "source": [
    "df.boxplot(column = ['avg_salary','Founded'])\n",
    "# Many outliers for Founded"
   ]
  },
  {
   "cell_type": "code",
   "execution_count": 253,
   "metadata": {},
   "outputs": [
    {
     "data": {
      "text/plain": [
       "<AxesSubplot:>"
      ]
     },
     "execution_count": 253,
     "metadata": {},
     "output_type": "execute_result"
    },
    {
     "data": {
      "image/png": "[encoded data removed]",
      "text/plain": [
       "<Figure size 432x288 with 1 Axes>"
      ]
     },
     "metadata": {
      "needs_background": "light"
     },
     "output_type": "display_data"
    }
   ],
   "source": [
    "df.Rating.hist()\n",
    "#pretty much normalized"
   ]
  },
  {
   "cell_type": "code",
   "execution_count": 254,
   "metadata": {},
   "outputs": [
    {
     "data": {
      "text/plain": [
       "<AxesSubplot:>"
      ]
     },
     "execution_count": 254,
     "metadata": {},
     "output_type": "execute_result"
    },
    {
     "data": {
      "image/png": "[encoded data removed]",
      "text/plain": [
       "<Figure size 432x288 with 1 Axes>"
      ]
     },
     "metadata": {
      "needs_background": "light"
     },
     "output_type": "display_data"
    }
   ],
   "source": [
    "df.avg_salary.hist()"
   ]
  },
  {
   "cell_type": "code",
   "execution_count": 255,
   "metadata": {},
   "outputs": [
    {
     "data": {
      "text/plain": [
       "Unnamed: 0          -0.152141\n",
       "Rating              -0.003485\n",
       "Headquarters              NaN\n",
       "Size                -0.027695\n",
       "Founded             -0.001514\n",
       "Competitors               NaN\n",
       "per_hour            -0.583479\n",
       "Employer_reported   -0.396005\n",
       "avg_salary           1.000000\n",
       "desc_length          0.036355\n",
       "python               0.007224\n",
       "r studio            -0.063548\n",
       "ML                  -0.052188\n",
       "spark               -0.036143\n",
       "deep_learning       -0.004114\n",
       "Name: avg_salary, dtype: float64"
      ]
     },
     "execution_count": 255,
     "metadata": {},
     "output_type": "execute_result"
    }
   ],
   "source": [
    "df.corr()['avg_salary']"
   ]
  },
  {
   "cell_type": "code",
   "execution_count": 258,
   "metadata": {},
   "outputs": [
    {
     "data": {
      "text/plain": [
       "Index(['Job Title', 'Salary Estimate', 'Job Description', 'Rating',\n",
       "       'Company Name', 'Location', 'Headquarters', 'Size', 'Founded',\n",
       "       'Type of ownership', 'Industry', 'Sector', 'Revenue', 'Competitors',\n",
       "       'salary_type', 'per_hour', 'Employer_reported', 'avg_salary', 'state',\n",
       "       'desc_length', 'seniority', 'title', 'python', 'r studio', 'ML',\n",
       "       'spark', 'deep_learning'],\n",
       "      dtype='object')"
      ]
     },
     "execution_count": 258,
     "metadata": {},
     "output_type": "execute_result"
    }
   ],
   "source": [
    "df.drop('Unnamed: 0',axis=1,inplace=True)\n",
    "df.columns"
   ]
  },
  {
   "cell_type": "code",
   "execution_count": 262,
   "metadata": {},
   "outputs": [],
   "source": [
    "df.drop(['Job Title','Salary Estimate','Job Description','Headquarters','Competitors','salary_type'],axis=1,inplace=True)"
   ]
  },
  {
   "cell_type": "code",
   "execution_count": 265,
   "metadata": {},
   "outputs": [],
   "source": [
    "df_cat = df[['Company Name','Location','Type of ownership', 'Industry', 'Sector','state','seniority',\n",
    "               'title', 'python', 'r studio', 'ML', 'spark', 'deep_learning','Size']]"
   ]
  },
  {
   "cell_type": "code",
   "execution_count": 263,
   "metadata": {},
   "outputs": [
    {
     "data": {
      "text/plain": [
       "Index(['Rating', 'Company Name', 'Location', 'Size', 'Founded',\n",
       "       'Type of ownership', 'Industry', 'Sector', 'Revenue', 'per_hour',\n",
       "       'Employer_reported', 'avg_salary', 'state', 'desc_length', 'seniority',\n",
       "       'title', 'python', 'r studio', 'ML', 'spark', 'deep_learning'],\n",
       "      dtype='object')"
      ]
     },
     "execution_count": 263,
     "metadata": {},
     "output_type": "execute_result"
    }
   ],
   "source": [
    "#lets draw some bar graphs for the categorical features\n",
    "for i in df_cat.columns:\n",
    "    cat_num = df_cat[i].value_counts()\n",
    "    "
   ]
  },
  {
   "cell_type": "code",
   "execution_count": 267,
   "metadata": {},
   "outputs": [
    {
     "data": {
      "text/plain": [
       "7    299\n",
       "2    217\n",
       "5    206\n",
       "3    167\n",
       "4    157\n",
       "1    100\n",
       "6     78\n",
       "Name: Size, dtype: int64"
      ]
     },
     "execution_count": 267,
     "metadata": {},
     "output_type": "execute_result"
    }
   ],
   "source": [
    "df_cat.Size.value_counts()"
   ]
  },
  {
   "cell_type": "code",
   "execution_count": null,
   "metadata": {},
   "outputs": [],
   "source": []
  }
 ],
 "metadata": {
  "kernelspec": {
   "display_name": "Python 3.8.2 32-bit",
   "language": "python",
   "name": "python38232bite9eff29d9a8245eaa71f1bbbc3dc288e"
  },
  "language_info": {
   "codemirror_mode": {
    "name": "ipython",
    "version": 3
   },
   "file_extension": ".py",
   "mimetype": "text/x-python",
   "name": "python",
   "nbconvert_exporter": "python",
   "pygments_lexer": "ipython3",
   "version": "3.8.2"
  }
 },
 "nbformat": 4,
 "nbformat_minor": 4
}
