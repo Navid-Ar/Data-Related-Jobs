{
 "cells": [
  {
   "cell_type": "code",
   "execution_count": 94,
   "metadata": {},
   "outputs": [],
   "source": [
    "import os\n",
    "os.chdir(r'C:\\Users\\Navid\\Documents\\ds_salary_proj')"
   ]
  },
  {
   "cell_type": "code",
   "execution_count": 95,
   "metadata": {},
   "outputs": [],
   "source": [
    "import pandas as pd"
   ]
  },
  {
   "cell_type": "code",
   "execution_count": 96,
   "metadata": {},
   "outputs": [],
   "source": [
    "df1 = pd.read_csv('data_frame2.txt')\n",
    "df2 = pd.read_csv('data_frame3.txt')"
   ]
  },
  {
   "cell_type": "code",
   "execution_count": 98,
   "metadata": {},
   "outputs": [],
   "source": [
    "df = df1.append(df2)"
   ]
  },
  {
   "cell_type": "code",
   "execution_count": 100,
   "metadata": {},
   "outputs": [],
   "source": [
    "df['salary_type'] = [x.split()[1] for x in df['Salary Estimate']]"
   ]
  },
  {
   "cell_type": "code",
   "execution_count": 101,
   "metadata": {},
   "outputs": [],
   "source": [
    "df['Salary Estimate'] = [x.split()[0] for x in df['Salary Estimate']]"
   ]
  },
  {
   "cell_type": "code",
   "execution_count": 102,
   "metadata": {},
   "outputs": [
    {
     "name": "stdout",
     "output_type": "stream",
     "text": [
      "['(Glassdoor' 'Per' '(Employer']\n"
     ]
    }
   ],
   "source": [
    "print(df['salary_type'].unique())"
   ]
  },
  {
   "cell_type": "code",
   "execution_count": 103,
   "metadata": {},
   "outputs": [],
   "source": [
    "df['per_hour'] = [1 if 'Per' in x else 0 for x in df['salary_type']]\n",
    "df['Employer_reported'] = [1 if 'Employer' in x else 0 for x in df['salary_type']]"
   ]
  },
  {
   "cell_type": "code",
   "execution_count": 104,
   "metadata": {},
   "outputs": [],
   "source": [
    "#extracting avg salary from slaray estimation\n",
    "df['avg_salary'] = (df['Salary Estimate'].map(lambda x: x.split('-')[0].lstrip('$').rstrip('k')).astype('int32')\n",
    "                    +df['Salary Estimate'].map(lambda x: x.split('-')[1].lstrip('$').rstrip('k')).astype('int32'))/2"
   ]
  },
  {
   "cell_type": "code",
   "execution_count": 105,
   "metadata": {},
   "outputs": [
    {
     "data": {
      "text/plain": [
       "5                    NanoMosaic\n",
       "105                  Kronos Bio\n",
       "144                 LGC Limited\n",
       "165          Remix Therapeutics\n",
       "168     Monte Rosa Therapeutics\n",
       "                 ...           \n",
       "227                 LGC Limited\n",
       "230                       PRPDG\n",
       "255    Well Established Biotech\n",
       "296     Monte Rosa Therapeutics\n",
       "297     Monte Rosa Therapeutics\n",
       "Name: Company Name, Length: 61, dtype: object"
      ]
     },
     "execution_count": 105,
     "metadata": {},
     "output_type": "execute_result"
    }
   ],
   "source": [
    "df.loc[df['Rating'] == -1, 'Company Name']\n",
    "# it seems that the companies without rating have only their name in the Company Name column"
   ]
  },
  {
   "cell_type": "code",
   "execution_count": 59,
   "metadata": {},
   "outputs": [],
   "source": [
    "df['Company Name'] = df.apply(lambda x: x['Company Name'] if x['Rating'] == -1 else x['Company Name'].split(\"\\n\")[0] , axis = 1)"
   ]
  },
  {
   "cell_type": "code",
   "execution_count": 60,
   "metadata": {},
   "outputs": [],
   "source": [
    "df.drop(['Headquarters','Competitors','Salary Estimate'], axis = 1 , inplace = True)"
   ]
  },
  {
   "cell_type": "code",
   "execution_count": 64,
   "metadata": {},
   "outputs": [
    {
     "data": {
      "text/plain": [
       "{'Colorado', 'Georgia', 'Missouri', 'New Jersey', 'Remote', 'Utah', 'Virginia'}"
      ]
     },
     "execution_count": 64,
     "metadata": {},
     "output_type": "execute_result"
    }
   ],
   "source": [
    "# Since in Location columns there are instacnes wuth differnt structre, such as 'Virgina', we need to replace them with \n",
    "# the same structure as others so that we can extract usefull info from them\n",
    "\n",
    "# We remove the ones without specified location (United States)\n",
    "df = df[df['Location'] != 'United States']\n",
    "list_1 = []\n",
    "for item in df.Location:\n",
    "    if ',' not in item:\n",
    "        list_1.append(item)\n",
    "\n",
    "set(list_1)"
   ]
  },
  {
   "cell_type": "code",
   "execution_count": 63,
   "metadata": {},
   "outputs": [
    {
     "data": {
      "text/plain": [
       "CA               239\n",
       "MA                82\n",
       "VA                72\n",
       "MD                67\n",
       "NY                59\n",
       "TX                44\n",
       "IL                31\n",
       "Remote            30\n",
       "WA                28\n",
       "FL                25\n",
       "PA                23\n",
       "TN                21\n",
       "MO                21\n",
       "DC                21\n",
       "MN                20\n",
       "CO                19\n",
       "NC                19\n",
       "GA                16\n",
       "United States     16\n",
       "WI                16\n",
       "NJ                15\n",
       "UT                15\n",
       "OH                15\n",
       "AZ                15\n",
       "MI                13\n",
       "CT                 9\n",
       "IN                 7\n",
       "KS                 7\n",
       "AL                 5\n",
       "Arapahoe           4\n",
       "DE                 2\n",
       "OR                 2\n",
       "Georgia            2\n",
       "Virginia           2\n",
       "RI                 2\n",
       "NM                 2\n",
       "NV                 1\n",
       "Missouri           1\n",
       "NE                 1\n",
       "Utah               1\n",
       "MS                 1\n",
       "AR                 1\n",
       "New Jersey         1\n",
       "PR                 1\n",
       "ID                 1\n",
       "NH                 1\n",
       "Colorado           1\n",
       "KY                 1\n",
       "VT                 1\n",
       "IA                 1\n",
       "Name: state, dtype: int64"
      ]
     },
     "execution_count": 63,
     "metadata": {},
     "output_type": "execute_result"
    }
   ],
   "source": [
    "df['state'] = df.apply(lambda x: x['Location'] if ',' not in x['Location']\n",
    "                       else x['Location'].split(',')[1].lstrip() , axis = 1)\n",
    "# we create a dict to use for mapping\n",
    "state_convertor = {'Colorado' : 'CO' , 'Georgia' : 'GA' , 'Missouri' : 'MO' , 'New Jersey' : 'NJ' ,\n",
    "             'Remote' : 'Remote' , 'Utah' : 'UT' , 'Virginia' : 'VA'}\n",
    "df['state'] = df['state'].map(lambda x: state_convertor[x] if x in state_convertor else x)"
   ]
  },
  {
   "cell_type": "code",
   "execution_count": 83,
   "metadata": {},
   "outputs": [
    {
     "name": "stdout",
     "output_type": "stream",
     "text": [
      "10000+ Employees           239\n",
      "51 to 200 Employees        168\n",
      "1001 to 5000 Employees     156\n",
      "201 to 500 Employees       127\n",
      "501 to 1000 Employees      121\n",
      "1 to 50 Employees           81\n",
      "5001 to 10000 Employees     61\n",
      "Name: Size, dtype: int64\n",
      "7    239\n",
      "2    168\n",
      "5    156\n",
      "3    127\n",
      "4    121\n",
      "1     81\n",
      "6     61\n",
      "Name: Size, dtype: int64\n"
     ]
    }
   ],
   "source": [
    "# we are going to work on the size\n",
    "print(df.Size.value_counts())\n",
    "# Lets drop those company with unknown or -1 size\n",
    "df = df[(df['Size'] != '-1') & (df['Size'] != 'Unknown')]\n",
    "# Lets make a dictionary to convert differnt types of size to numbers, since they are compareable\n",
    "size_convertor = {'1 to 50 Employees':1 , '51 to 200 Employees':2 , '201 to 500 Employees':3 , \n",
    "                 '501 to 1000 Employees':4 , '1001 to 5000 Employees':5 , '5001 to 10000 Employees':6 ,\n",
    "                 '10000+ Employees':7}\n",
    "df['Size'] = df['Size'].map(size_convertor)\n",
    "print(df.Size.value_counts())"
   ]
  },
  {
   "cell_type": "code",
   "execution_count": 85,
   "metadata": {},
   "outputs": [],
   "source": [
    "# Now we want to change the founded year to age of the company\n",
    "df['Founded'] = 2020 - df['Founded']"
   ]
  },
  {
   "cell_type": "code",
   "execution_count": 87,
   "metadata": {},
   "outputs": [
    {
     "data": {
      "text/plain": [
       "Biotech & Pharmaceuticals                  211\n",
       "Health Care Services & Hospitals           106\n",
       "Computer Hardware & Software                66\n",
       "Internet                                    57\n",
       "Enterprise Software & Network Solutions     56\n",
       "                                          ... \n",
       "Grantmaking Foundations                      1\n",
       "Music Production & Distribution              1\n",
       "Farm Support Services                        1\n",
       "Home Centers & Hardware Stores               1\n",
       "Industrial Manufacturing                     1\n",
       "Name: Industry, Length: 73, dtype: int64"
      ]
     },
     "execution_count": 87,
     "metadata": {},
     "output_type": "execute_result"
    }
   ],
   "source": [
    "df.Industry.value_counts()"
   ]
  },
  {
   "cell_type": "code",
   "execution_count": 88,
   "metadata": {},
   "outputs": [
    {
     "data": {
      "text/plain": [
       "Information Technology                231\n",
       "Biotech & Pharmaceuticals             211\n",
       "Business Services                     119\n",
       "Health Care                           106\n",
       "Manufacturing                          39\n",
       "Finance                                35\n",
       "-1                                     32\n",
       "Insurance                              32\n",
       "Aerospace & Defense                    29\n",
       "Retail                                 24\n",
       "Media                                  22\n",
       "Government                             17\n",
       "Education                              16\n",
       "Oil, Gas, Energy & Utilities           11\n",
       "Telecommunications                      8\n",
       "Transportation & Logistics              6\n",
       "Accounting & Legal                      4\n",
       "Restaurants, Bars & Food Services       4\n",
       "Non-Profit                              2\n",
       "Agriculture & Forestry                  2\n",
       "Consumer Services                       2\n",
       "Construction, Repair & Maintenance      1\n",
       "Name: Sector, dtype: int64"
      ]
     },
     "execution_count": 88,
     "metadata": {},
     "output_type": "execute_result"
    }
   ],
   "source": [
    "df.Sector.value_counts()"
   ]
  },
  {
   "cell_type": "code",
   "execution_count": 91,
   "metadata": {},
   "outputs": [],
   "source": [
    "df2 = pd.read_csv('data_frame3.txt')"
   ]
  },
  {
   "cell_type": "code",
   "execution_count": 99,
   "metadata": {},
   "outputs": [
    {
     "data": {
      "text/html": [
       "<div>\n",
       "<style scoped>\n",
       "    .dataframe tbody tr th:only-of-type {\n",
       "        vertical-align: middle;\n",
       "    }\n",
       "\n",
       "    .dataframe tbody tr th {\n",
       "        vertical-align: top;\n",
       "    }\n",
       "\n",
       "    .dataframe thead th {\n",
       "        text-align: right;\n",
       "    }\n",
       "</style>\n",
       "<table border=\"1\" class=\"dataframe\">\n",
       "  <thead>\n",
       "    <tr style=\"text-align: right;\">\n",
       "      <th></th>\n",
       "      <th>Unnamed: 0</th>\n",
       "      <th>Job Title</th>\n",
       "      <th>Salary Estimate</th>\n",
       "      <th>Job Description</th>\n",
       "      <th>Rating</th>\n",
       "      <th>Company Name</th>\n",
       "      <th>Location</th>\n",
       "      <th>Headquarters</th>\n",
       "      <th>Size</th>\n",
       "      <th>Founded</th>\n",
       "      <th>Type of ownership</th>\n",
       "      <th>Industry</th>\n",
       "      <th>Sector</th>\n",
       "      <th>Revenue</th>\n",
       "      <th>Competitors</th>\n",
       "    </tr>\n",
       "  </thead>\n",
       "  <tbody>\n",
       "    <tr>\n",
       "      <th>0</th>\n",
       "      <td>0</td>\n",
       "      <td>Data Scientist</td>\n",
       "      <td>$57k-$102k (Glassdoor Est.)</td>\n",
       "      <td>A trusted partner at nearly three million comm...</td>\n",
       "      <td>3.6</td>\n",
       "      <td>Ecolab\\n3.6</td>\n",
       "      <td>Saint Paul, MN</td>\n",
       "      <td>-1</td>\n",
       "      <td>10000+ Employees</td>\n",
       "      <td>1923</td>\n",
       "      <td>Company - Public</td>\n",
       "      <td>Chemical Manufacturing</td>\n",
       "      <td>Manufacturing</td>\n",
       "      <td>$10+ billion (USD)</td>\n",
       "      <td>-1</td>\n",
       "    </tr>\n",
       "    <tr>\n",
       "      <th>1</th>\n",
       "      <td>1</td>\n",
       "      <td>Data Scientist</td>\n",
       "      <td>$57k-$102k (Glassdoor Est.)</td>\n",
       "      <td>As Data Scientist in the Pricing Analytics tea...</td>\n",
       "      <td>4.1</td>\n",
       "      <td>HP Inc.\\n4.1</td>\n",
       "      <td>San Diego, CA</td>\n",
       "      <td>-1</td>\n",
       "      <td>10000+ Employees</td>\n",
       "      <td>1939</td>\n",
       "      <td>Company - Public</td>\n",
       "      <td>Computer Hardware &amp; Software</td>\n",
       "      <td>Information Technology</td>\n",
       "      <td>Unknown / Non-Applicable</td>\n",
       "      <td>-1</td>\n",
       "    </tr>\n",
       "    <tr>\n",
       "      <th>2</th>\n",
       "      <td>2</td>\n",
       "      <td>Data Scientist</td>\n",
       "      <td>$57k-$102k (Glassdoor Est.)</td>\n",
       "      <td>Job Brief\\n\\nThe ideal candidate will have pre...</td>\n",
       "      <td>2.9</td>\n",
       "      <td>IFG Companies\\n2.9</td>\n",
       "      <td>Atlanta, GA</td>\n",
       "      <td>-1</td>\n",
       "      <td>201 to 500 Employees</td>\n",
       "      <td>1985</td>\n",
       "      <td>Company - Private</td>\n",
       "      <td>Insurance Carriers</td>\n",
       "      <td>Insurance</td>\n",
       "      <td>Unknown / Non-Applicable</td>\n",
       "      <td>-1</td>\n",
       "    </tr>\n",
       "    <tr>\n",
       "      <th>3</th>\n",
       "      <td>3</td>\n",
       "      <td>Data Scientist</td>\n",
       "      <td>$57k-$102k (Glassdoor Est.)</td>\n",
       "      <td>Every Analyst a Scientist - One of our primary...</td>\n",
       "      <td>4.5</td>\n",
       "      <td>Systems &amp; Technology Research\\n4.5</td>\n",
       "      <td>Woburn, MA</td>\n",
       "      <td>-1</td>\n",
       "      <td>201 to 500 Employees</td>\n",
       "      <td>2010</td>\n",
       "      <td>Company - Private</td>\n",
       "      <td>Aerospace &amp; Defense</td>\n",
       "      <td>Aerospace &amp; Defense</td>\n",
       "      <td>$100 to $500 million (USD)</td>\n",
       "      <td>-1</td>\n",
       "    </tr>\n",
       "    <tr>\n",
       "      <th>4</th>\n",
       "      <td>4</td>\n",
       "      <td>Senior Data Scientist</td>\n",
       "      <td>$57k-$102k (Glassdoor Est.)</td>\n",
       "      <td>About Us\\n\\nAt GutCheck, we pioneered agile ma...</td>\n",
       "      <td>3.9</td>\n",
       "      <td>GutCheck\\n3.9</td>\n",
       "      <td>Denver, CO</td>\n",
       "      <td>-1</td>\n",
       "      <td>51 to 200 Employees</td>\n",
       "      <td>2009</td>\n",
       "      <td>Company - Private</td>\n",
       "      <td>Research &amp; Development</td>\n",
       "      <td>Business Services</td>\n",
       "      <td>$10 to $25 million (USD)</td>\n",
       "      <td>-1</td>\n",
       "    </tr>\n",
       "  </tbody>\n",
       "</table>\n",
       "</div>"
      ],
      "text/plain": [
       "   Unnamed: 0              Job Title              Salary Estimate  \\\n",
       "0           0         Data Scientist  $57k-$102k (Glassdoor Est.)   \n",
       "1           1         Data Scientist  $57k-$102k (Glassdoor Est.)   \n",
       "2           2         Data Scientist  $57k-$102k (Glassdoor Est.)   \n",
       "3           3         Data Scientist  $57k-$102k (Glassdoor Est.)   \n",
       "4           4  Senior Data Scientist  $57k-$102k (Glassdoor Est.)   \n",
       "\n",
       "                                     Job Description  Rating  \\\n",
       "0  A trusted partner at nearly three million comm...     3.6   \n",
       "1  As Data Scientist in the Pricing Analytics tea...     4.1   \n",
       "2  Job Brief\\n\\nThe ideal candidate will have pre...     2.9   \n",
       "3  Every Analyst a Scientist - One of our primary...     4.5   \n",
       "4  About Us\\n\\nAt GutCheck, we pioneered agile ma...     3.9   \n",
       "\n",
       "                         Company Name        Location  Headquarters  \\\n",
       "0                         Ecolab\\n3.6  Saint Paul, MN            -1   \n",
       "1                        HP Inc.\\n4.1   San Diego, CA            -1   \n",
       "2                  IFG Companies\\n2.9     Atlanta, GA            -1   \n",
       "3  Systems & Technology Research\\n4.5      Woburn, MA            -1   \n",
       "4                       GutCheck\\n3.9      Denver, CO            -1   \n",
       "\n",
       "                   Size  Founded  Type of ownership  \\\n",
       "0      10000+ Employees     1923   Company - Public   \n",
       "1      10000+ Employees     1939   Company - Public   \n",
       "2  201 to 500 Employees     1985  Company - Private   \n",
       "3  201 to 500 Employees     2010  Company - Private   \n",
       "4   51 to 200 Employees     2009  Company - Private   \n",
       "\n",
       "                       Industry                  Sector  \\\n",
       "0        Chemical Manufacturing           Manufacturing   \n",
       "1  Computer Hardware & Software  Information Technology   \n",
       "2            Insurance Carriers               Insurance   \n",
       "3           Aerospace & Defense     Aerospace & Defense   \n",
       "4        Research & Development       Business Services   \n",
       "\n",
       "                      Revenue  Competitors  \n",
       "0          $10+ billion (USD)           -1  \n",
       "1    Unknown / Non-Applicable           -1  \n",
       "2    Unknown / Non-Applicable           -1  \n",
       "3  $100 to $500 million (USD)           -1  \n",
       "4    $10 to $25 million (USD)           -1  "
      ]
     },
     "execution_count": 99,
     "metadata": {},
     "output_type": "execute_result"
    }
   ],
   "source": [
    "df.head()"
   ]
  },
  {
   "cell_type": "code",
   "execution_count": null,
   "metadata": {},
   "outputs": [],
   "source": []
  }
 ],
 "metadata": {
  "kernelspec": {
   "display_name": "Python 3.8.2 32-bit",
   "language": "python",
   "name": "python38232bite9eff29d9a8245eaa71f1bbbc3dc288e"
  },
  "language_info": {
   "codemirror_mode": {
    "name": "ipython",
    "version": 3
   },
   "file_extension": ".py",
   "mimetype": "text/x-python",
   "name": "python",
   "nbconvert_exporter": "python",
   "pygments_lexer": "ipython3",
   "version": "3.8.2"
  }
 },
 "nbformat": 4,
 "nbformat_minor": 4
}
